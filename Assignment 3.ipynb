{
 "cells": [
  {
   "cell_type": "markdown",
   "id": "13f67fea",
   "metadata": {},
   "source": [
    "# myreduce()"
   ]
  },
  {
   "cell_type": "code",
   "execution_count": 31,
   "id": "c196684a",
   "metadata": {},
   "outputs": [
    {
     "name": "stdout",
     "output_type": "stream",
     "text": [
      "10\n"
     ]
    }
   ],
   "source": [
    "#creating myreduce(),which works as inbuilt function of reduce() \n",
    "def myreduce(add,s):\n",
    "    return a\n",
    "def add(a,b):\n",
    "    return a+b\n",
    "s=[1,2,3,4]\n",
    "a=s[0]\n",
    "for i in range(1,len(s)):\n",
    "    b=s[i]\n",
    "    a=add(a,b)\n",
    "print(myreduce(add,s))"
   ]
  },
  {
   "cell_type": "markdown",
   "id": "e66f1c88",
   "metadata": {},
   "source": [
    "# myfilter()"
   ]
  },
  {
   "cell_type": "code",
   "execution_count": 32,
   "id": "00a7cd54",
   "metadata": {},
   "outputs": [],
   "source": [
    "##creating myfilter(),which works as inbuilt function of filter() \n",
    "def myfilter(li):\n",
    "    for i in li:\n",
    "        if type(i)==dict:\n",
    "            return i"
   ]
  },
  {
   "cell_type": "code",
   "execution_count": 34,
   "id": "1e79b78c",
   "metadata": {},
   "outputs": [
    {
     "data": {
      "text/plain": [
       "{'a': ['b']}"
      ]
     },
     "execution_count": 34,
     "metadata": {},
     "output_type": "execute_result"
    }
   ],
   "source": [
    "myfilter([{'a':['b']},'a','c',5454])      "
   ]
  },
  {
   "cell_type": "markdown",
   "id": "7062ed97",
   "metadata": {},
   "source": [
    "# List Comprehension"
   ]
  },
  {
   "cell_type": "code",
   "execution_count": 226,
   "id": "65f80ab3",
   "metadata": {},
   "outputs": [
    {
     "name": "stdout",
     "output_type": "stream",
     "text": [
      "['x', 'y', 'z', 'xx', 'yy', 'zz', 'xxx', 'yyy', 'zzz', 'xxxx', 'yyyy', 'zzzz']\n"
     ]
    }
   ],
   "source": [
    "list_1 = ['x','y','z']\n",
    "result = [ i*num for num in range(1,5) for i in list_1  ]\n",
    "print(result)"
   ]
  },
  {
   "cell_type": "code",
   "execution_count": 228,
   "id": "680031d9",
   "metadata": {},
   "outputs": [
    {
     "name": "stdout",
     "output_type": "stream",
     "text": [
      "['x', 'xx', 'xxx', 'xxxx', 'y', 'yy', 'yyy', 'yyyy', 'z', 'zz', 'zzz', 'zzzz']\n"
     ]
    }
   ],
   "source": [
    "list_2 = ['x','y','z']\n",
    "result = [ item*num for item in list_2 for num in range(1,5)   ]\n",
    "print(result)"
   ]
  },
  {
   "cell_type": "code",
   "execution_count": 229,
   "id": "cff70b12",
   "metadata": {},
   "outputs": [
    {
     "name": "stdout",
     "output_type": "stream",
     "text": [
      "[[2], [3], [4], [3], [4], [5], [4], [5], [6]]\n"
     ]
    }
   ],
   "source": [
    "list_3=[2,3,4]\n",
    "result=[[num+i] for num in list_3 for i in range(0,3)]\n",
    "print(result)"
   ]
  },
  {
   "cell_type": "code",
   "execution_count": 230,
   "id": "8de37663",
   "metadata": {},
   "outputs": [
    {
     "name": "stdout",
     "output_type": "stream",
     "text": [
      "[[2, 3, 4, 5], [3, 4, 5, 6], [4, 5, 6, 7], [5, 6, 7, 8]]\n"
     ]
    }
   ],
   "source": [
    "list_4=[2,3,4,5]\n",
    "result=[[num+i for num in list_4] for i in range(0,4)]\n",
    "print(result)"
   ]
  },
  {
   "cell_type": "code",
   "execution_count": 236,
   "id": "da2a2ff1",
   "metadata": {},
   "outputs": [
    {
     "name": "stdout",
     "output_type": "stream",
     "text": [
      "[(1, 1), (2, 1), (3, 1), (1, 2), (2, 2), (3, 2), (1, 3), (2, 3), (3, 3)]\n"
     ]
    }
   ],
   "source": [
    "list_5=[1,2,3]\n",
    "result=[(b,a) for a in list_5 for b in list_5]\n",
    "print(result)"
   ]
  },
  {
   "cell_type": "code",
   "execution_count": 6,
   "id": "f91de0f4",
   "metadata": {},
   "outputs": [
    {
     "data": {
      "text/plain": [
       "[1, 2, 3, 4, 5]"
      ]
     },
     "execution_count": 6,
     "metadata": {},
     "output_type": "execute_result"
    }
   ],
   "source": [
    "l=[1,2,3,4,5]\n",
    "l"
   ]
  }
 ],
 "metadata": {
  "kernelspec": {
   "display_name": "Python 3",
   "language": "python",
   "name": "python3"
  },
  "language_info": {
   "codemirror_mode": {
    "name": "ipython",
    "version": 3
   },
   "file_extension": ".py",
   "mimetype": "text/x-python",
   "name": "python",
   "nbconvert_exporter": "python",
   "pygments_lexer": "ipython3",
   "version": "3.8.8"
  }
 },
 "nbformat": 4,
 "nbformat_minor": 5
}
