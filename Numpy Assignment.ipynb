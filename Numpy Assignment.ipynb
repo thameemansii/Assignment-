{
 "cells": [
  {
   "cell_type": "code",
   "execution_count": 13,
   "id": "188c2b5c",
   "metadata": {},
   "outputs": [],
   "source": [
    "import numpy as np"
   ]
  },
  {
   "cell_type": "code",
   "execution_count": 75,
   "id": "45d9bcdf",
   "metadata": {},
   "outputs": [
    {
     "data": {
      "text/plain": [
       "array([[1, 1, 1],\n",
       "       [4, 2, 1],\n",
       "       [9, 3, 1]])"
      ]
     },
     "execution_count": 75,
     "metadata": {},
     "output_type": "execute_result"
    }
   ],
   "source": [
    "np.vander([1,2,3])#vandeermone inbuilt function"
   ]
  },
  {
   "cell_type": "markdown",
   "id": "72696a35",
   "metadata": {},
   "source": [
    "# 1"
   ]
  },
  {
   "cell_type": "code",
   "execution_count": 76,
   "id": "b49116b0",
   "metadata": {},
   "outputs": [],
   "source": [
    "def vandermonde(Vector, N, increasing = False):\n",
    "    if increasing:\n",
    "        Matrix = np.matrix([x**i for x in Vector for i in range(N)]).reshape(Vector.size, N)\n",
    "    else:\n",
    "        Matrix = np.matrix([x**(N-i-1) for x in Vector for i in range(N)]).reshape(Vector.size, N)\n",
    "    return Matrix"
   ]
  },
  {
   "cell_type": "code",
   "execution_count": 77,
   "id": "98b887cb",
   "metadata": {},
   "outputs": [],
   "source": [
    "Vector = np.array([1, 3, 5, 7, 9])\n",
    "N = 5"
   ]
  },
  {
   "cell_type": "code",
   "execution_count": 78,
   "id": "3496fd23",
   "metadata": {},
   "outputs": [
    {
     "data": {
      "text/plain": [
       "matrix([[   1,    1,    1,    1,    1],\n",
       "        [  81,   27,    9,    3,    1],\n",
       "        [ 625,  125,   25,    5,    1],\n",
       "        [2401,  343,   49,    7,    1],\n",
       "        [6561,  729,   81,    9,    1]])"
      ]
     },
     "execution_count": 78,
     "metadata": {},
     "output_type": "execute_result"
    }
   ],
   "source": [
    "Mtarix_desc = vandermonde(Vector, N, False)\n",
    "Mtarix_desc"
   ]
  },
  {
   "cell_type": "code",
   "execution_count": 79,
   "id": "4940d4eb",
   "metadata": {},
   "outputs": [
    {
     "data": {
      "text/plain": [
       "matrix([[   1,    1,    1,    1,    1],\n",
       "        [   1,    3,    9,   27,   81],\n",
       "        [   1,    5,   25,  125,  625],\n",
       "        [   1,    7,   49,  343, 2401],\n",
       "        [   1,    9,   81,  729, 6561]])"
      ]
     },
     "execution_count": 79,
     "metadata": {},
     "output_type": "execute_result"
    }
   ],
   "source": [
    "Mtarix_asc = vandermonde(Vector, N, True)\n",
    "Mtarix_asc"
   ]
  },
  {
   "cell_type": "markdown",
   "id": "23212df7",
   "metadata": {},
   "source": [
    "# 2"
   ]
  },
  {
   "cell_type": "code",
   "execution_count": 101,
   "id": "498c25e2",
   "metadata": {},
   "outputs": [],
   "source": [
    "def moving_Average(inputValue, c):\n",
    "    v = 1\n",
    "    output = np.convolve(inputValue, np.ones(c), 'valid') / c\n",
    "    for i in output:\n",
    "        print(\"y{0} = {1:.2f}\".format(v, i))\n",
    "        v += 1"
   ]
  },
  {
   "cell_type": "code",
   "execution_count": 102,
   "id": "8cdd8400",
   "metadata": {},
   "outputs": [
    {
     "name": "stdout",
     "output_type": "stream",
     "text": [
      "y1 = 5.00\n",
      "y2 = 4.67\n",
      "y3 = 5.67\n",
      "y4 = 6.67\n",
      "y5 = 9.67\n",
      "y6 = 28.67\n",
      "y7 = 49.33\n",
      "y8 = 72.67\n",
      "y9 = 84.00\n",
      "y10 = 93.33\n",
      "y11 = 116.33\n"
     ]
    }
   ],
   "source": [
    "inputValue = np.array([3, 5, 7, 2, 8, 10, 11, 65, 72, 81, 99, 100, 150])\n",
    "c = 3\n",
    "moving_Average(inputValue, c)"
   ]
  },
  {
   "cell_type": "code",
   "execution_count": null,
   "id": "7e53190f",
   "metadata": {},
   "outputs": [],
   "source": []
  },
  {
   "cell_type": "code",
   "execution_count": null,
   "id": "47b9c82d",
   "metadata": {},
   "outputs": [],
   "source": []
  },
  {
   "cell_type": "code",
   "execution_count": null,
   "id": "1deae172",
   "metadata": {},
   "outputs": [],
   "source": []
  },
  {
   "cell_type": "code",
   "execution_count": null,
   "id": "71d86060",
   "metadata": {},
   "outputs": [],
   "source": []
  }
 ],
 "metadata": {
  "kernelspec": {
   "display_name": "Python 3",
   "language": "python",
   "name": "python3"
  },
  "language_info": {
   "codemirror_mode": {
    "name": "ipython",
    "version": 3
   },
   "file_extension": ".py",
   "mimetype": "text/x-python",
   "name": "python",
   "nbconvert_exporter": "python",
   "pygments_lexer": "ipython3",
   "version": "3.8.8"
  }
 },
 "nbformat": 4,
 "nbformat_minor": 5
}
